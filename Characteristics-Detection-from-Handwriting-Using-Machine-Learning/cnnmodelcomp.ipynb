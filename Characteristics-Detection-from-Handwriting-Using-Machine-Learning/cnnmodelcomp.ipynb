{
  "nbformat": 4,
  "nbformat_minor": 0,
  "metadata": {
    "colab": {
      "name": "Copy of cnnmodelcomp.ipynb",
      "provenance": [],
      "collapsed_sections": []
    },
    "kernelspec": {
      "display_name": "Python 3",
      "name": "python3"
    }
  },
  "cells": [
    {
      "cell_type": "code",
      "metadata": {
        "colab": {
          "base_uri": "https://localhost:8080/"
        },
        "id": "Q_-98Nc5EtSB",
        "outputId": "37bdfe46-e352-4431-d3fb-529ca3e97647"
      },
      "source": [
        "!pip install scipy==1.1.0"
      ],
      "execution_count": null,
      "outputs": [
        {
          "output_type": "stream",
          "text": [
            "Collecting scipy==1.1.0\n",
            "\u001b[?25l  Downloading https://files.pythonhosted.org/packages/40/de/0c22c6754370ba6b1fa8e53bd6e514d4a41a181125d405a501c215cbdbd6/scipy-1.1.0-cp37-cp37m-manylinux1_x86_64.whl (31.2MB)\n",
            "\u001b[K     |████████████████████████████████| 31.2MB 128kB/s \n",
            "\u001b[?25hRequirement already satisfied: numpy>=1.8.2 in /usr/local/lib/python3.7/dist-packages (from scipy==1.1.0) (1.19.5)\n",
            "\u001b[31mERROR: pymc3 3.11.2 has requirement scipy>=1.2.0, but you'll have scipy 1.1.0 which is incompatible.\u001b[0m\n",
            "\u001b[31mERROR: plotnine 0.6.0 has requirement scipy>=1.2.0, but you'll have scipy 1.1.0 which is incompatible.\u001b[0m\n",
            "\u001b[31mERROR: albumentations 0.1.12 has requirement imgaug<0.2.7,>=0.2.5, but you'll have imgaug 0.2.9 which is incompatible.\u001b[0m\n",
            "Installing collected packages: scipy\n",
            "  Found existing installation: scipy 1.4.1\n",
            "    Uninstalling scipy-1.4.1:\n",
            "      Successfully uninstalled scipy-1.4.1\n",
            "Successfully installed scipy-1.1.0\n"
          ],
          "name": "stdout"
        }
      ]
    },
    {
      "cell_type": "code",
      "metadata": {
        "colab": {
          "base_uri": "https://localhost:8080/"
        },
        "id": "Pt9lxjp0yVhc",
        "outputId": "e3af0c6f-a75d-4398-a75d-5798e4587575"
      },
      "source": [
        "from google.colab import drive\n",
        "drive.mount('/content/drive')"
      ],
      "execution_count": null,
      "outputs": [
        {
          "output_type": "stream",
          "text": [
            "Mounted at /content/drive\n"
          ],
          "name": "stdout"
        }
      ]
    },
    {
      "cell_type": "code",
      "metadata": {
        "colab": {
          "base_uri": "https://localhost:8080/"
        },
        "id": "MkVOHfvsFAZt",
        "outputId": "a2279cf5-e982-4d01-b1ba-f977795b7701"
      },
      "source": [
        "from __future__ import print_function\n",
        "import os\n",
        "import cv2\n",
        "import keras\n",
        "#It “serializes” the object first before writing it to file\n",
        "import pickle \n",
        "import numpy as np\n",
        "# import variables as vars\n",
        "import matplotlib.pyplot as plt\n",
        "# allows you to create models layer-by-layer\n",
        "from keras.models import Sequential\n",
        "#Provides the ability to describe any model using JSON format\n",
        "from keras.models import model_from_json\n",
        "from keras.layers import Conv2D, MaxPooling2D\n",
        "# Encode target labels with value between 0 and n_classes-1\n",
        "from sklearn.preprocessing import LabelEncoder\n",
        "from scipy.misc import imread, imresize, imshow\n",
        "from keras.layers import Dense, Dropout, Flatten\n",
        "from sklearn.model_selection import train_test_split\n",
        "from keras.preprocessing.image import ImageDataGenerator\n",
        "from sklearn.discriminant_analysis import LinearDiscriminantAnalysis as LDA\n",
        "from sklearn.preprocessing import StandardScaler\n",
        "img_rows, img_cols = 256, 256\n",
        " \n",
        "#number of training examples utilized in one iteration\n",
        "batch_size = 7\n",
        "# 4 difference characters\n",
        "num_classes = 4\n",
        "# very short training time\n",
        "epochs = 100\n",
        " \n",
        " \n",
        "model_json_path = 'model_files/model.json'\n",
        "label_obj_path = 'model_files/labels.sav'\n",
        "model_path = 'model_files/model.h5'\n",
        "prediction_file_dir_path =  '/content/drive/MyDrive/Data/predict_this_doc'\n",
        "img_rows, img_cols = img_rows,img_cols\n",
        "batch_size =batch_size\n",
        "num_classes =num_classes\n",
        "epochs = epochs\n",
        "model_json_path =model_json_path\n",
        "model_path = model_path\n",
        "prediction_file_dir_path =prediction_file_dir_path\n",
        " \n",
        "path = '/content/drive/MyDrive/Data/FEATURE-BASED-IMAGES'\n",
        " \n",
        "data = []\n",
        "labels_idx = {\"LEFT_MARG\":0,\"RIGHT_MARG\":1,\"SLANT_ASC\":2,\"SLANT_DESC\":4}\n",
        "labels = []\n",
        " \n",
        "#pre-processing is done on every single iamge and stored into 'data'\n",
        "for folder, subfolders, files in os.walk(path):\n",
        "  print(folder,subfolders)\n",
        "  for name in files:\n",
        "    if name.endswith('.jpg'):\n",
        "      # Pre-processing the images\n",
        "      x = cv2.imread(folder + '/' + name, cv2.IMREAD_GRAYSCALE)\n",
        "      x = cv2.resize(x, (img_rows, img_cols))\n",
        "      __, x = cv2.threshold(x, 150, 150, cv2.THRESH_BINARY)\n",
        " \n",
        "      # dilate\n",
        "      morph_size = (2, 2)\n",
        "      cpy = x.copy()\n",
        "      # To get a desired rectangular kernel size of 2*2 array\n",
        "      struct = cv2.getStructuringElement(cv2.MORPH_RECT, morph_size)\n",
        "      # Dilating the image \n",
        "      cpy = cv2.dilate(~cpy, struct, anchor=(-1, -1), iterations=1)\n",
        "      x = ~cpy\n",
        " \n",
        "      # x = np.expand_dims(x, axis=0)\n",
        " \n",
        "      data.append(x)\n",
        " \n",
        "      # cv2.imwrite(str(name) + '00986.jpg', x)\n",
        "      labels.append(labels_idx[os.path.basename(folder)])"
      ],
      "execution_count": null,
      "outputs": [
        {
          "output_type": "stream",
          "text": [
            "/content/drive/MyDrive/Data/FEATURE-BASED-IMAGES ['SLANT_DESC', 'LEFT_MARG', 'SLANT_ASC', 'RIGHT_MARG']\n",
            "/content/drive/MyDrive/Data/FEATURE-BASED-IMAGES/SLANT_DESC []\n",
            "/content/drive/MyDrive/Data/FEATURE-BASED-IMAGES/LEFT_MARG []\n",
            "/content/drive/MyDrive/Data/FEATURE-BASED-IMAGES/SLANT_ASC []\n",
            "/content/drive/MyDrive/Data/FEATURE-BASED-IMAGES/RIGHT_MARG []\n"
          ],
          "name": "stdout"
        }
      ]
    },
    {
      "cell_type": "code",
      "metadata": {
        "colab": {
          "base_uri": "https://localhost:8080/"
        },
        "id": "2pfnpbcq2OqJ",
        "outputId": "b6bcab85-f968-44b9-acfd-ae30e6d9485b"
      },
      "source": [
        "# print(labels)\n",
        "# labels1 = np.asarray(labels)\n",
        "# labels1=labels1.reshape(28,1)\n",
        "# print(labels1.shape)\n",
        "# convert array of labeled data to one-hot-encoding\n",
        "from keras.utils.np_utils import to_categorical \n",
        "# labels1 = to_categorical(labels, num_classes = 4)\n",
        "lb = LabelEncoder()\n",
        "#converting the labels into numeric form so as to convert it into the machine-readable form\n",
        "labels = lb.fit_transform(labels)\n",
        "#Converts a class vector (integers) to binary class matrix\n",
        "labels1 = to_categorical(labels, num_classes = 4)\n",
        "\n",
        "print(labels1.shape)\n",
        "#print(labels1)"
      ],
      "execution_count": null,
      "outputs": [
        {
          "output_type": "stream",
          "text": [
            "(198, 4)\n"
          ],
          "name": "stdout"
        }
      ]
    },
    {
      "cell_type": "code",
      "metadata": {
        "colab": {
          "base_uri": "https://localhost:8080/"
        },
        "id": "PXnJeUltAudz",
        "outputId": "f9cfd2ff-1f70-4dc2-e3fb-141feb56ee02"
      },
      "source": [
        "data1 = np.asarray(data)\n",
        "labels1[4]"
      ],
      "execution_count": null,
      "outputs": [
        {
          "output_type": "execute_result",
          "data": {
            "text/plain": [
              "array([0., 0., 0., 1.], dtype=float32)"
            ]
          },
          "metadata": {
            "tags": []
          },
          "execution_count": 53
        }
      ]
    },
    {
      "cell_type": "code",
      "metadata": {
        "id": "EhMZ7fpC8--c"
      },
      "source": [
        "\n",
        "x_train, x_test, y_train, y_test = train_test_split(data1, labels1, random_state=2, test_size=0.5,shuffle=True)\n",
        "x_train = np.array(x_train)\n",
        "x_test = np.array(x_test)\n",
        "y_train = np.array(y_train)\n",
        "y_test = np.array(y_test)\n",
        "\n",
        "x_train = x_train.astype('float32')\n",
        "x_test = x_test.astype('float32')\n",
        "x_train /= 255.0\n",
        "x_test /= 255.0\n",
        "\n",
        "\n",
        "input_shape = (img_rows, img_cols,1)"
      ],
      "execution_count": null,
      "outputs": []
    },
    {
      "cell_type": "code",
      "metadata": {
        "id": "uUVIAobU6RJB"
      },
      "source": [
        "x_train=np.reshape(x_train, x_train.shape + (1,))"
      ],
      "execution_count": null,
      "outputs": []
    },
    {
      "cell_type": "code",
      "metadata": {
        "id": "UGB9QI-W6kgp"
      },
      "source": [
        "x_test=np.reshape(x_test, x_test.shape + (1,))"
      ],
      "execution_count": null,
      "outputs": []
    },
    {
      "cell_type": "code",
      "metadata": {
        "colab": {
          "base_uri": "https://localhost:8080/"
        },
        "id": "hgZXBO3uGB2A",
        "outputId": "2c21d9a8-9b40-4791-e788-5f025a23881c"
      },
      "source": [
        "print(x_train.shape)"
      ],
      "execution_count": null,
      "outputs": [
        {
          "output_type": "stream",
          "text": [
            "(99, 256, 256, 1)\n"
          ],
          "name": "stdout"
        }
      ]
    },
    {
      "cell_type": "code",
      "metadata": {
        "colab": {
          "base_uri": "https://localhost:8080/"
        },
        "id": "m0rw48OYjN9l",
        "outputId": "bbfa29cc-3d8f-4b19-c8f7-bd4cb7b64f7c"
      },
      "source": [
        "print(y_train.shape)"
      ],
      "execution_count": null,
      "outputs": [
        {
          "output_type": "stream",
          "text": [
            "(99, 4)\n"
          ],
          "name": "stdout"
        }
      ]
    },
    {
      "cell_type": "code",
      "metadata": {
        "colab": {
          "base_uri": "https://localhost:8080/"
        },
        "id": "TPUIVOyZ7gda",
        "outputId": "d4ce511a-b110-4e69-f5ca-eed7e3f1fcf7"
      },
      "source": [
        "print(y_test.shape)"
      ],
      "execution_count": null,
      "outputs": [
        {
          "output_type": "stream",
          "text": [
            "(99, 4)\n"
          ],
          "name": "stdout"
        }
      ]
    },
    {
      "cell_type": "code",
      "metadata": {
        "colab": {
          "base_uri": "https://localhost:8080/"
        },
        "id": "tntvg6-gGPoR",
        "outputId": "49c9ba5b-e8da-4784-a05e-f46ba43d8f80"
      },
      "source": [
        "print(x_test.shape)"
      ],
      "execution_count": null,
      "outputs": [
        {
          "output_type": "stream",
          "text": [
            "(99, 256, 256, 1)\n"
          ],
          "name": "stdout"
        }
      ]
    },
    {
      "cell_type": "code",
      "metadata": {
        "id": "h44v3wFgHf0K"
      },
      "source": [
        "model = Sequential()\n",
        "model.add(Conv2D(32, kernel_size=(3, 3),\n",
        "                 activation='relu',\n",
        "                 input_shape=input_shape))\n",
        "\n",
        "model.add(Conv2D(64, (3, 3), activation='relu'))\n",
        "model.add(MaxPooling2D(pool_size=(2, 2)))\n",
        "model.add(Dropout(0.25))\n",
        "model.add(Flatten())\n",
        "model.add(Dense(128, activation='relu'))\n",
        "model.add(Dropout(0.25))\n",
        "# output a softmax to squash the matrix into output probabilities\n",
        "model.add(Dense(num_classes, activation='softmax'))"
      ],
      "execution_count": null,
      "outputs": []
    },
    {
      "cell_type": "code",
      "metadata": {
        "colab": {
          "base_uri": "https://localhost:8080/"
        },
        "id": "qLrj2aKvITET",
        "outputId": "278ca219-e706-4ab9-b674-906dac589931"
      },
      "source": [
        "\n",
        "model.compile(loss=keras.losses.categorical_crossentropy,\n",
        "              optimizer=keras.optimizers.Adadelta(),\n",
        "              metrics=['accuracy'])\n",
        "# lb = LabelEncoder()\n",
        "# y_train = lb.fit_transform(y_train)\n",
        "# y_test = lb.fit_transform(y_test)\n",
        "# y_train = keras.utils.to_categorical(y_train)\n",
        "# y_test = keras.utils.to_categorical(y_test)\n",
        "# sc = StandardScaler()\n",
        "# X_train = sc.fit_transform(X_train)\n",
        "# X_test = sc.transform(X_test)\n",
        "\n",
        "# lda = LDA(n_components=1)\n",
        "# X_train = lda.fit_transform(X_train, y_train)\n",
        "# X_test = lda.transform(X_test)\n",
        "\n",
        "\n",
        "history=model.fit(x_train, y_train,\n",
        "          batch_size=batch_size,\n",
        "          epochs=epochs,\n",
        "          verbose=2,\n",
        "          validation_data=(x_test, y_test))\n",
        "score = model.evaluate(x_test, y_test, verbose=0)\n",
        "print('Test loss:', score[0])\n",
        "print('Test accuracy:', score[1])"
      ],
      "execution_count": null,
      "outputs": [
        {
          "output_type": "stream",
          "text": [
            "Epoch 1/100\n",
            "15/15 - 45s - loss: 1.3829 - accuracy: 0.3232 - val_loss: 1.3486 - val_accuracy: 0.3131\n",
            "Epoch 2/100\n",
            "15/15 - 48s - loss: 1.3592 - accuracy: 0.3434 - val_loss: 1.3850 - val_accuracy: 0.2323\n",
            "Epoch 3/100\n",
            "15/15 - 42s - loss: 1.3363 - accuracy: 0.3636 - val_loss: 1.3452 - val_accuracy: 0.3232\n",
            "Epoch 4/100\n",
            "15/15 - 44s - loss: 1.3386 - accuracy: 0.3434 - val_loss: 1.4085 - val_accuracy: 0.2323\n",
            "Epoch 5/100\n",
            "15/15 - 44s - loss: 1.3258 - accuracy: 0.3737 - val_loss: 1.3509 - val_accuracy: 0.2626\n",
            "Epoch 6/100\n",
            "15/15 - 44s - loss: 1.3149 - accuracy: 0.3636 - val_loss: 1.4195 - val_accuracy: 0.2323\n",
            "Epoch 7/100\n",
            "15/15 - 44s - loss: 1.2947 - accuracy: 0.3737 - val_loss: 1.3102 - val_accuracy: 0.3939\n",
            "Epoch 8/100\n",
            "15/15 - 43s - loss: 1.2918 - accuracy: 0.4343 - val_loss: 1.3501 - val_accuracy: 0.3232\n",
            "Epoch 9/100\n",
            "15/15 - 44s - loss: 1.3243 - accuracy: 0.3838 - val_loss: 1.3367 - val_accuracy: 0.3232\n",
            "Epoch 10/100\n",
            "15/15 - 44s - loss: 1.2696 - accuracy: 0.3939 - val_loss: 1.3080 - val_accuracy: 0.3434\n",
            "Epoch 11/100\n",
            "15/15 - 41s - loss: 1.2789 - accuracy: 0.4242 - val_loss: 1.3156 - val_accuracy: 0.3939\n",
            "Epoch 12/100\n",
            "15/15 - 42s - loss: 1.2549 - accuracy: 0.4848 - val_loss: 1.3487 - val_accuracy: 0.2323\n",
            "Epoch 13/100\n",
            "15/15 - 42s - loss: 1.2416 - accuracy: 0.4343 - val_loss: 1.2905 - val_accuracy: 0.3232\n",
            "Epoch 14/100\n",
            "15/15 - 40s - loss: 1.2331 - accuracy: 0.5051 - val_loss: 1.2838 - val_accuracy: 0.3232\n",
            "Epoch 15/100\n",
            "15/15 - 43s - loss: 1.2230 - accuracy: 0.4949 - val_loss: 1.2837 - val_accuracy: 0.3232\n",
            "Epoch 16/100\n",
            "15/15 - 55s - loss: 1.2031 - accuracy: 0.5051 - val_loss: 1.2743 - val_accuracy: 0.3232\n",
            "Epoch 17/100\n",
            "15/15 - 43s - loss: 1.2015 - accuracy: 0.4848 - val_loss: 1.2681 - val_accuracy: 0.3232\n",
            "Epoch 18/100\n",
            "15/15 - 43s - loss: 1.1831 - accuracy: 0.5455 - val_loss: 1.3024 - val_accuracy: 0.2323\n",
            "Epoch 19/100\n",
            "15/15 - 44s - loss: 1.1552 - accuracy: 0.5556 - val_loss: 1.2746 - val_accuracy: 0.3131\n",
            "Epoch 20/100\n",
            "15/15 - 44s - loss: 1.1642 - accuracy: 0.5758 - val_loss: 1.2631 - val_accuracy: 0.3636\n",
            "Epoch 21/100\n",
            "15/15 - 42s - loss: 1.1462 - accuracy: 0.6263 - val_loss: 1.2635 - val_accuracy: 0.3535\n",
            "Epoch 22/100\n",
            "15/15 - 42s - loss: 1.1341 - accuracy: 0.6061 - val_loss: 1.2546 - val_accuracy: 0.5354\n",
            "Epoch 23/100\n",
            "15/15 - 42s - loss: 1.1394 - accuracy: 0.5657 - val_loss: 1.3017 - val_accuracy: 0.2323\n",
            "Epoch 24/100\n",
            "15/15 - 41s - loss: 1.1237 - accuracy: 0.6162 - val_loss: 1.2591 - val_accuracy: 0.5354\n",
            "Epoch 25/100\n",
            "15/15 - 42s - loss: 1.1215 - accuracy: 0.6263 - val_loss: 1.3245 - val_accuracy: 0.2323\n",
            "Epoch 26/100\n",
            "15/15 - 41s - loss: 1.0842 - accuracy: 0.5960 - val_loss: 1.2870 - val_accuracy: 0.2323\n",
            "Epoch 27/100\n",
            "15/15 - 41s - loss: 1.0765 - accuracy: 0.6364 - val_loss: 1.3249 - val_accuracy: 0.2323\n",
            "Epoch 28/100\n",
            "15/15 - 41s - loss: 1.0847 - accuracy: 0.5354 - val_loss: 1.2186 - val_accuracy: 0.4444\n",
            "Epoch 29/100\n",
            "15/15 - 40s - loss: 1.0814 - accuracy: 0.6970 - val_loss: 1.2816 - val_accuracy: 0.2323\n",
            "Epoch 30/100\n",
            "15/15 - 42s - loss: 1.0431 - accuracy: 0.6566 - val_loss: 1.3029 - val_accuracy: 0.2323\n",
            "Epoch 31/100\n",
            "15/15 - 47s - loss: 1.0115 - accuracy: 0.6162 - val_loss: 1.2031 - val_accuracy: 0.3232\n",
            "Epoch 32/100\n",
            "15/15 - 44s - loss: 1.0216 - accuracy: 0.6667 - val_loss: 1.1859 - val_accuracy: 0.3434\n",
            "Epoch 33/100\n",
            "15/15 - 45s - loss: 0.9958 - accuracy: 0.7778 - val_loss: 1.1779 - val_accuracy: 0.5657\n",
            "Epoch 34/100\n",
            "15/15 - 42s - loss: 1.0056 - accuracy: 0.7273 - val_loss: 1.2759 - val_accuracy: 0.2323\n",
            "Epoch 35/100\n",
            "15/15 - 43s - loss: 1.0166 - accuracy: 0.6768 - val_loss: 1.2287 - val_accuracy: 0.2727\n",
            "Epoch 36/100\n",
            "15/15 - 43s - loss: 0.9805 - accuracy: 0.6970 - val_loss: 1.2169 - val_accuracy: 0.3333\n",
            "Epoch 37/100\n",
            "15/15 - 44s - loss: 0.9673 - accuracy: 0.6566 - val_loss: 1.1652 - val_accuracy: 0.4343\n",
            "Epoch 38/100\n",
            "15/15 - 43s - loss: 0.9432 - accuracy: 0.7879 - val_loss: 1.1673 - val_accuracy: 0.4545\n",
            "Epoch 39/100\n",
            "15/15 - 43s - loss: 0.9212 - accuracy: 0.8081 - val_loss: 1.1787 - val_accuracy: 0.4343\n",
            "Epoch 40/100\n",
            "15/15 - 43s - loss: 0.9385 - accuracy: 0.7980 - val_loss: 1.1943 - val_accuracy: 0.4040\n",
            "Epoch 41/100\n",
            "15/15 - 43s - loss: 0.9204 - accuracy: 0.7576 - val_loss: 1.2114 - val_accuracy: 0.2323\n",
            "Epoch 42/100\n",
            "15/15 - 41s - loss: 0.9447 - accuracy: 0.6970 - val_loss: 1.1277 - val_accuracy: 0.6364\n",
            "Epoch 43/100\n",
            "15/15 - 42s - loss: 0.8776 - accuracy: 0.8485 - val_loss: 1.1509 - val_accuracy: 0.4545\n",
            "Epoch 44/100\n",
            "15/15 - 43s - loss: 0.8808 - accuracy: 0.7879 - val_loss: 1.1185 - val_accuracy: 0.5556\n",
            "Epoch 45/100\n",
            "15/15 - 46s - loss: 0.9073 - accuracy: 0.7879 - val_loss: 1.1887 - val_accuracy: 0.2424\n",
            "Epoch 46/100\n",
            "15/15 - 41s - loss: 0.8480 - accuracy: 0.8283 - val_loss: 1.1959 - val_accuracy: 0.2323\n",
            "Epoch 47/100\n",
            "15/15 - 41s - loss: 0.8159 - accuracy: 0.8384 - val_loss: 1.0932 - val_accuracy: 0.6768\n",
            "Epoch 48/100\n",
            "15/15 - 42s - loss: 0.8285 - accuracy: 0.8586 - val_loss: 1.1307 - val_accuracy: 0.4141\n",
            "Epoch 49/100\n",
            "15/15 - 41s - loss: 0.7994 - accuracy: 0.8586 - val_loss: 1.1938 - val_accuracy: 0.2323\n",
            "Epoch 50/100\n",
            "15/15 - 43s - loss: 0.8256 - accuracy: 0.7172 - val_loss: 1.1265 - val_accuracy: 0.7778\n",
            "Epoch 51/100\n",
            "15/15 - 43s - loss: 0.8237 - accuracy: 0.9192 - val_loss: 1.1131 - val_accuracy: 0.4949\n",
            "Epoch 52/100\n",
            "15/15 - 41s - loss: 0.7754 - accuracy: 0.9192 - val_loss: 1.0804 - val_accuracy: 0.6162\n",
            "Epoch 53/100\n",
            "15/15 - 41s - loss: 0.7960 - accuracy: 0.8586 - val_loss: 1.1023 - val_accuracy: 0.5253\n",
            "Epoch 54/100\n",
            "15/15 - 40s - loss: 0.7748 - accuracy: 0.8586 - val_loss: 1.0397 - val_accuracy: 0.7273\n",
            "Epoch 55/100\n",
            "15/15 - 43s - loss: 0.7620 - accuracy: 0.8687 - val_loss: 1.0409 - val_accuracy: 0.7980\n",
            "Epoch 56/100\n",
            "15/15 - 42s - loss: 0.7315 - accuracy: 0.9091 - val_loss: 1.0325 - val_accuracy: 0.6768\n",
            "Epoch 57/100\n",
            "15/15 - 42s - loss: 0.7351 - accuracy: 0.9192 - val_loss: 1.0890 - val_accuracy: 0.5152\n",
            "Epoch 58/100\n",
            "15/15 - 42s - loss: 0.7506 - accuracy: 0.8889 - val_loss: 1.1023 - val_accuracy: 0.3939\n",
            "Epoch 59/100\n",
            "15/15 - 43s - loss: 0.7039 - accuracy: 0.9394 - val_loss: 1.0428 - val_accuracy: 0.6263\n",
            "Epoch 60/100\n",
            "15/15 - 44s - loss: 0.6740 - accuracy: 0.8990 - val_loss: 1.0558 - val_accuracy: 0.5960\n",
            "Epoch 61/100\n",
            "15/15 - 40s - loss: 0.7080 - accuracy: 0.8889 - val_loss: 1.0048 - val_accuracy: 0.7879\n",
            "Epoch 62/100\n",
            "15/15 - 41s - loss: 0.6756 - accuracy: 0.9293 - val_loss: 1.1032 - val_accuracy: 0.3333\n",
            "Epoch 63/100\n",
            "15/15 - 41s - loss: 0.6672 - accuracy: 0.8990 - val_loss: 1.0527 - val_accuracy: 0.5354\n",
            "Epoch 64/100\n",
            "15/15 - 42s - loss: 0.6735 - accuracy: 0.8889 - val_loss: 1.0455 - val_accuracy: 0.7576\n",
            "Epoch 65/100\n",
            "15/15 - 42s - loss: 0.6687 - accuracy: 0.9697 - val_loss: 1.0208 - val_accuracy: 0.6667\n",
            "Epoch 66/100\n",
            "15/15 - 42s - loss: 0.6421 - accuracy: 0.9293 - val_loss: 0.9833 - val_accuracy: 0.6263\n",
            "Epoch 67/100\n",
            "15/15 - 42s - loss: 0.6564 - accuracy: 0.9394 - val_loss: 0.9658 - val_accuracy: 0.8485\n",
            "Epoch 68/100\n",
            "15/15 - 42s - loss: 0.6345 - accuracy: 0.8889 - val_loss: 0.9817 - val_accuracy: 0.7778\n",
            "Epoch 69/100\n",
            "15/15 - 42s - loss: 0.6411 - accuracy: 0.9192 - val_loss: 1.0074 - val_accuracy: 0.6465\n",
            "Epoch 70/100\n",
            "15/15 - 44s - loss: 0.5991 - accuracy: 0.9697 - val_loss: 0.9394 - val_accuracy: 0.8384\n",
            "Epoch 71/100\n",
            "15/15 - 41s - loss: 0.5760 - accuracy: 0.9899 - val_loss: 0.9415 - val_accuracy: 0.8687\n",
            "Epoch 72/100\n",
            "15/15 - 42s - loss: 0.5640 - accuracy: 0.9697 - val_loss: 0.9456 - val_accuracy: 0.8182\n",
            "Epoch 73/100\n",
            "15/15 - 42s - loss: 0.5777 - accuracy: 0.9697 - val_loss: 0.9457 - val_accuracy: 0.6768\n",
            "Epoch 74/100\n",
            "15/15 - 46s - loss: 0.5637 - accuracy: 0.9596 - val_loss: 0.9484 - val_accuracy: 0.8182\n",
            "Epoch 75/100\n",
            "15/15 - 42s - loss: 0.5657 - accuracy: 0.9798 - val_loss: 0.9117 - val_accuracy: 0.8182\n",
            "Epoch 76/100\n",
            "15/15 - 42s - loss: 0.5759 - accuracy: 0.9596 - val_loss: 0.9246 - val_accuracy: 0.7475\n",
            "Epoch 77/100\n",
            "15/15 - 41s - loss: 0.5393 - accuracy: 0.9697 - val_loss: 0.9045 - val_accuracy: 0.8687\n",
            "Epoch 78/100\n",
            "15/15 - 41s - loss: 0.5351 - accuracy: 0.9697 - val_loss: 0.9155 - val_accuracy: 0.7172\n",
            "Epoch 79/100\n",
            "15/15 - 42s - loss: 0.5408 - accuracy: 0.9495 - val_loss: 0.9109 - val_accuracy: 0.8283\n",
            "Epoch 80/100\n",
            "15/15 - 42s - loss: 0.5382 - accuracy: 0.9697 - val_loss: 0.8923 - val_accuracy: 0.7778\n",
            "Epoch 81/100\n",
            "15/15 - 43s - loss: 0.5279 - accuracy: 0.9697 - val_loss: 0.8964 - val_accuracy: 0.8081\n",
            "Epoch 82/100\n",
            "15/15 - 42s - loss: 0.5129 - accuracy: 0.9899 - val_loss: 0.8911 - val_accuracy: 0.7172\n",
            "Epoch 83/100\n",
            "15/15 - 41s - loss: 0.4976 - accuracy: 0.9596 - val_loss: 0.9032 - val_accuracy: 0.7879\n",
            "Epoch 84/100\n",
            "15/15 - 43s - loss: 0.4807 - accuracy: 0.9798 - val_loss: 0.8942 - val_accuracy: 0.7879\n",
            "Epoch 85/100\n",
            "15/15 - 42s - loss: 0.4698 - accuracy: 0.9697 - val_loss: 0.8595 - val_accuracy: 0.8788\n",
            "Epoch 86/100\n",
            "15/15 - 42s - loss: 0.4443 - accuracy: 0.9596 - val_loss: 0.8620 - val_accuracy: 0.7778\n",
            "Epoch 87/100\n",
            "15/15 - 43s - loss: 0.4565 - accuracy: 0.9495 - val_loss: 0.8637 - val_accuracy: 0.8283\n",
            "Epoch 88/100\n",
            "15/15 - 43s - loss: 0.4538 - accuracy: 0.9899 - val_loss: 0.8564 - val_accuracy: 0.7475\n",
            "Epoch 89/100\n",
            "15/15 - 47s - loss: 0.4579 - accuracy: 0.9697 - val_loss: 0.8351 - val_accuracy: 0.8687\n",
            "Epoch 90/100\n",
            "15/15 - 43s - loss: 0.4491 - accuracy: 0.9899 - val_loss: 0.8880 - val_accuracy: 0.7172\n",
            "Epoch 91/100\n",
            "15/15 - 42s - loss: 0.4324 - accuracy: 0.9798 - val_loss: 0.8447 - val_accuracy: 0.8586\n",
            "Epoch 92/100\n",
            "15/15 - 43s - loss: 0.4182 - accuracy: 0.9798 - val_loss: 0.8256 - val_accuracy: 0.8687\n",
            "Epoch 93/100\n",
            "15/15 - 42s - loss: 0.4149 - accuracy: 0.9798 - val_loss: 0.8497 - val_accuracy: 0.8384\n",
            "Epoch 94/100\n",
            "15/15 - 42s - loss: 0.4224 - accuracy: 1.0000 - val_loss: 0.8938 - val_accuracy: 0.7879\n",
            "Epoch 95/100\n",
            "15/15 - 41s - loss: 0.3797 - accuracy: 0.9899 - val_loss: 0.8086 - val_accuracy: 0.8687\n",
            "Epoch 96/100\n",
            "15/15 - 40s - loss: 0.4125 - accuracy: 0.9899 - val_loss: 0.8404 - val_accuracy: 0.7879\n",
            "Epoch 97/100\n",
            "15/15 - 40s - loss: 0.4152 - accuracy: 0.9798 - val_loss: 0.8594 - val_accuracy: 0.6970\n",
            "Epoch 98/100\n",
            "15/15 - 40s - loss: 0.4091 - accuracy: 0.9798 - val_loss: 0.8202 - val_accuracy: 0.7475\n",
            "Epoch 99/100\n",
            "15/15 - 41s - loss: 0.4056 - accuracy: 0.9495 - val_loss: 0.7953 - val_accuracy: 0.8384\n",
            "Epoch 100/100\n",
            "15/15 - 39s - loss: 0.4066 - accuracy: 0.9899 - val_loss: 0.7895 - val_accuracy: 0.8485\n",
            "Test loss: 0.7894625663757324\n",
            "Test accuracy: 0.8484848737716675\n"
          ],
          "name": "stdout"
        }
      ]
    },
    {
      "cell_type": "code",
      "metadata": {
        "colab": {
          "base_uri": "https://localhost:8080/"
        },
        "id": "lx0giarqZHcn",
        "outputId": "dc6d96c5-04cc-4266-cd0f-e1138f073f69"
      },
      "source": [
        "history.history.keys()"
      ],
      "execution_count": null,
      "outputs": [
        {
          "output_type": "execute_result",
          "data": {
            "text/plain": [
              "dict_keys(['loss', 'accuracy', 'val_loss', 'val_accuracy'])"
            ]
          },
          "metadata": {
            "tags": []
          },
          "execution_count": 63
        }
      ]
    },
    {
      "cell_type": "code",
      "metadata": {
        "colab": {
          "base_uri": "https://localhost:8080/",
          "height": 295
        },
        "id": "eUr5ZhFmZUWv",
        "outputId": "0d324035-15e2-4729-f120-36a7e1cfccfc"
      },
      "source": [
        "# loss_train = history.history['accuracy']\n",
        "# loss_val = history.history['val_accuracy']\n",
        "# epochs = range(1,100)\n",
        "# plt.title('model accuracy')\n",
        "# plt.ylabel('accuracy')\n",
        "# plt.xlabel('epoch')\n",
        "# plt.legend(['train', 'validation'], loc='upper left')\n",
        "# plt.show()\n",
        "plt.plot(history.history['accuracy'])\n",
        "plt.plot(history.history['val_accuracy'])\n",
        "plt.title('model accuracy')\n",
        "plt.ylabel('accuracy')\n",
        "plt.xlabel('epoch')\n",
        "plt.legend(['train', 'val'], loc='upper left')\n",
        "plt.show()"
      ],
      "execution_count": null,
      "outputs": [
        {
          "output_type": "display_data",
          "data": {
            "image/png": "[encoded data removed]",
            "text/plain": [
              "<Figure size 432x288 with 1 Axes>"
            ]
          },
          "metadata": {
            "tags": [],
            "needs_background": "light"
          }
        }
      ]
    },
    {
      "cell_type": "code",
      "metadata": {
        "colab": {
          "base_uri": "https://localhost:8080/"
        },
        "id": "eL5aaTzREjTG",
        "outputId": "a670a798-86c6-4906-fe64-7d3261881cbb"
      },
      "source": [
        "from keras.models import load_model\n",
        "from keras.models import Model\n",
        "import json \n",
        "# we can save our Keras models to file and load them up again to make predictions.\n",
        "# Keras provides the ability to describe any model using JSON format\n",
        "model_json = model.to_json() \n",
        "model_json_path = '/content/drive/MyDrive/Data/models/model.json'                         \n",
        "with open(model_json_path, \"w\") as json_file:\n",
        "  json_file.write(model_json)\n",
        "\n",
        " \n",
        "# it is used to save files and data,\n",
        "label_obj_path = '/content/drive/MyDrive/Data/models/labels.sav'\n",
        " \n",
        "# The weights are saved directly from the model and later loaded using the function.\n",
        "model_path = '/content/drive/MyDrive/Data/models/model.h5'\n",
        " \n",
        "prediction_file_dir_path = '/content/drive/MyDrive/Data/right'\n",
        " \n",
        "# pickle label encoder obj\n",
        "# The most commonly used ones are Label Encoding (where a list of strings is converted to a list of numbers but still remains one list) \n",
        "with open(label_obj_path, 'wb') as lb_obj:\n",
        "# dump() function to store the object data to the file. pickle.\n",
        "# The first argument is the object that you want to store. The second argument is the file object you get by opening the desired file.\n",
        "  pickle.dump(lb, lb_obj)\n",
        " \n",
        "# serialize weights to HDF5\n",
        "model.save_weights(model_path)\n",
        "print(\"Saved model to disk\")"
      ],
      "execution_count": null,
      "outputs": [
        {
          "output_type": "stream",
          "text": [
            "Saved model to disk\n"
          ],
          "name": "stdout"
        }
      ]
    },
    {
      "cell_type": "code",
      "metadata": {
        "id": "ZJKsUf6VCTpq"
      },
      "source": [
        "def print_results(lbl):\n",
        "  if lbl == 'LEFT_MARG':\n",
        "    print('\\n > Flexibility :')\n",
        "    # print('\\n > Insecure and devotes oneself completely :\\t')\n",
        "  elif lbl == 'RIGHT_MARG':\n",
        "    print('\\n > social isolation :\\t')\n",
        "  elif lbl == 'SLANT_ASC':\n",
        "    print('\\n > Mental Energy :')\n",
        "  elif lbl == 'SLANT_DESC':\n",
        "    print('\\n > Non communicative :')\n"
      ],
      "execution_count": null,
      "outputs": []
    },
    {
      "cell_type": "code",
      "metadata": {
        "colab": {
          "base_uri": "https://localhost:8080/"
        },
        "id": "AuG68cj2_1ZI",
        "outputId": "afed6efd-ccd7-46db-f72b-720a369e95cd"
      },
      "source": [
        "import os\n",
        "import cv2\n",
        "from scipy.misc import imread, imresize, imshow\n",
        "import warnings\n",
        "warnings.filterwarnings(\"ignore\")\n",
        "\n",
        "output_idx = {0:\"LEFT_MARG\",1:\"RIGHT_MARG\",2:\"SLANT_ASC\",3:\"SLANT_DESC\",4:\"NEWDATA\"}\n",
        "def predict_personalities(filename):\n",
        "\n",
        "  # try:\n",
        "  json_file = open(model_json_path, 'r')\n",
        "  loaded_model_json = json_file.read()\n",
        "  json_file.close()\n",
        "\n",
        "  from keras.models import model_from_json\n",
        "  loaded_model = model_from_json(open(model_json_path).read())\n",
        "  # load woeights into new model\n",
        "  loaded_model.load_weights(model_path)\n",
        "  print(\"*****Loaded Model from disk******\")\n",
        "# except Exception:\n",
        "  # return '\\n\\n> Need to train the model first!\\n'\n",
        "  prediction_file_dir_path =  '/content/drive/MyDrive/Data/right/'\n",
        "\n",
        "  x = cv2.imread(prediction_file_dir_path+filename, cv2.IMREAD_GRAYSCALE)\n",
        "  x = cv2.resize(x, (img_rows, img_cols))\n",
        "  __, x = cv2.threshold(x, 150, 150, cv2.THRESH_BINARY)\n",
        "  # x = cv2.imresize(x, (img_rows, img_cols))\n",
        "  # x = imresize(x, (img_rows, img_cols))\n",
        "  # __, x = cv2.threshold(x, 220, 255, cv2.THRESH_BINARY)\n",
        "\n",
        "  # dilate\n",
        "  # Increases the object area,Used to accentuate features means noticeable\n",
        "  morph_size = (2, 2)\n",
        "  cpy = x.copy()\n",
        "  struct = cv2.getStructuringElement(cv2.MORPH_RECT, morph_size)\n",
        "  cpy = cv2.dilate(~cpy, struct, anchor=(-1, -1), iterations=1)\n",
        "  x = ~cpy\n",
        "  \n",
        "  x=np.reshape(x, (1, 256, 256, 1))\n",
        "# x_train = x_train.reshape(-1, 28, 28, 1)\n",
        "  #print(x.shape)\n",
        "  #x = np.expand_dims(x, axis=4)\n",
        "\n",
        "  # x = np.expand_dims(x, axis=0)\n",
        "  out = loaded_model.predict(x, batch_size=32, verbose=0)\n",
        "\n",
        "# The numpy.argmax() function returns indices of the max element of the array in a particular axis.\n",
        "  print_results((output_idx[np.argmax(out[0])]))\n",
        "\n",
        "  # with open(label_obj_path, 'rb') as lb_obj:\n",
        "  #   lb = pickle.load(lb_obj)\n",
        "\n",
        "  # result = lb.inverse_transform(np.argmax(out[0]))\n",
        "  # print_results(lb.classes_, out[0])\n",
        "\n",
        "  #return '\\n> Prediction Completed!'\n",
        "\n",
        "\n",
        "if __name__ == '__main__':\n",
        "  fpath = None\n",
        "  prediction_file_dir_path =  '/content/drive/MyDrive/Data/right'\n",
        "  # for dir_0, sub_dir_0, files in os.walk(prediction_file_dir_path):\n",
        "  # # for folder, subfolders, files in os.walk(prediction_file_dir_path):\n",
        "  #   fpath = files\n",
        "  #   break\n",
        "  # if fpath:\n",
        "  res = predict_personalities('test3.jpg')\n",
        "  \n",
        "  # else:\n",
        "    # print('No file found for prediction!')\n"
      ],
      "execution_count": null,
      "outputs": [
        {
          "output_type": "stream",
          "text": [
            "*****Loaded Model from disk******\n",
            "WARNING:tensorflow:11 out of the last 11 calls to <function Model.make_predict_function.<locals>.predict_function at 0x7f40cfaeb200> triggered tf.function retracing. Tracing is expensive and the excessive number of tracings could be due to (1) creating @tf.function repeatedly in a loop, (2) passing tensors with different shapes, (3) passing Python objects instead of tensors. For (1), please define your @tf.function outside of the loop. For (2), @tf.function has experimental_relax_shapes=True option that relaxes argument shapes that can avoid unnecessary retracing. For (3), please refer to https://www.tensorflow.org/guide/function#controlling_retracing and https://www.tensorflow.org/api_docs/python/tf/function for  more details.\n",
            "\n",
            " > social isolation :\t\n"
          ],
          "name": "stdout"
        }
      ]
    },
    {
      "cell_type": "code",
      "metadata": {
        "id": "z69DaUJRgIOv"
      },
      "source": [
        ""
      ],
      "execution_count": null,
      "outputs": []
    }
  ]
}